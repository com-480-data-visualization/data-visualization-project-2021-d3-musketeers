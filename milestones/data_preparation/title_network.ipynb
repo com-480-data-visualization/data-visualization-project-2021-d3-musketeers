{
 "cells": [
  {
   "cell_type": "markdown",
   "id": "timely-father",
   "metadata": {},
   "source": [
    "# Preparing data for the website"
   ]
  },
  {
   "cell_type": "code",
   "execution_count": 1,
   "id": "explicit-volleyball",
   "metadata": {},
   "outputs": [],
   "source": [
    "import pandas as pd"
   ]
  },
  {
   "cell_type": "code",
   "execution_count": 2,
   "id": "prepared-composite",
   "metadata": {},
   "outputs": [],
   "source": [
    "# Load the data\n",
    "DATA_PATH = '../../data'\n",
    "WEBSITE_DATA_PATH = '../../website/app/data'\n",
    "catalogue = pd.read_csv(f'{DATA_PATH}/titles.csv')\n",
    "persons = pd.read_csv(f'{DATA_PATH}/persons.csv')\n",
    "genres = pd.read_csv(f'{DATA_PATH}/genres.csv')\n",
    "countries = pd.read_csv(f'{DATA_PATH}/countries.csv')"
   ]
  },
  {
   "cell_type": "code",
   "execution_count": 3,
   "id": "above-virginia",
   "metadata": {},
   "outputs": [],
   "source": [
    "catalogue['actors'] = catalogue.actors.str.split(',')\n",
    "catalogue['month'] = catalogue['release date on Netflix'].dt.month\n",
    "catalogue['year'] = catalogue['release date on Netflix'].dt.year "
   ]
  },
  {
   "cell_type": "code",
   "execution_count": 4,
   "id": "official-venue",
   "metadata": {},
   "outputs": [],
   "source": [
    "# Dictionnary for faster countries and genres access \n",
    "countries_to_name = countries.set_index('id').to_dict(orient='index')\n",
    "genres_to_name = genres.set_index('id').to_dict(orient='index')\n",
    "persons_to_name = persons.set_index('id').to_dict(orient='index')\n",
    "\n",
    "def get_genre_name(id_):\n",
    "    return genres_to_name[int(id_)]['name']\n",
    "\n",
    "def get_country_name(id_):\n",
    "    return countries_to_name[int(id_)]['name']\n",
    "\n",
    "def get_person_name(id_):\n",
    "    return persons_to_name[int(id_)]['name']"
   ]
  },
  {
   "cell_type": "code",
   "execution_count": 5,
   "id": "acoustic-consideration",
   "metadata": {},
   "outputs": [],
   "source": [
    "series = catalogue[~catalogue['number of seasons'].isna()].copy()\n",
    "movies = catalogue[catalogue['number of seasons'].isna()].copy()"
   ]
  },
  {
   "cell_type": "markdown",
   "id": "occupational-murder",
   "metadata": {},
   "source": [
    "## Graph information"
   ]
  },
  {
   "cell_type": "code",
   "execution_count": 6,
   "id": "thermal-worst",
   "metadata": {},
   "outputs": [],
   "source": [
    "import networkx as nx"
   ]
  },
  {
   "cell_type": "code",
   "execution_count": 7,
   "id": "introductory-music",
   "metadata": {
    "tags": []
   },
   "outputs": [],
   "source": [
    "G = nx.Graph()"
   ]
  },
  {
   "cell_type": "code",
   "execution_count": 8,
   "id": "polar-rochester",
   "metadata": {},
   "outputs": [],
   "source": [
    "actors_per_item = movies.sort_values('imdb', ascending=False)[:2000]['actors'].dropna()\n",
    "actors_per_item = actors_per_item.apply(set)"
   ]
  },
  {
   "cell_type": "code",
   "execution_count": 10,
   "id": "solar-retailer",
   "metadata": {},
   "outputs": [],
   "source": [
    "h = 0\n",
    "k = 0\n",
    "for i, a1 in actors_per_item.iteritems():\n",
    "    for j, a2 in actors_per_item.iteritems():\n",
    "        if (i != j) and (set(a1) & set(a2)):\n",
    "            G.add_edge(i, j, weight = len(set(a1) & set(a2)), id = h)\n",
    "            h +=1"
   ]
  },
  {
   "cell_type": "code",
   "execution_count": 11,
   "id": "bc3285f8-6bd0-49c9-9f2c-b36333595f6c",
   "metadata": {},
   "outputs": [],
   "source": [
    "nx.set_node_attributes(G, movies.title.to_dict(), name = \"name\")\n",
    "nx.set_node_attributes(G, movies.audio.to_dict(), name = \"audio\")"
   ]
  },
  {
   "cell_type": "code",
   "execution_count": 12,
   "id": "tough-milwaukee",
   "metadata": {},
   "outputs": [],
   "source": [
    "giant_cc = sorted(nx.connected_components(G), key=len, reverse=True)[0]"
   ]
  },
  {
   "cell_type": "code",
   "execution_count": 13,
   "id": "threatened-worker",
   "metadata": {},
   "outputs": [],
   "source": [
    "G = nx.subgraph(G, giant_cc)"
   ]
  },
  {
   "cell_type": "code",
   "execution_count": 15,
   "id": "644dfafb-282c-44ba-b10c-2863074f3ed1",
   "metadata": {},
   "outputs": [],
   "source": [
    "from itertools import count\n",
    "groups = set(nx.get_node_attributes(G,'audio').values())\n",
    "mapping = dict(zip(sorted(groups),count()))\n",
    "nodes = G.nodes()\n",
    "colors = {n:mapping[G.nodes[n]['audio']] for n in nodes}"
   ]
  },
  {
   "cell_type": "code",
   "execution_count": 19,
   "id": "d835ea8e-67e7-43ca-bfc1-16abf86f95f7",
   "metadata": {},
   "outputs": [],
   "source": [
    "pos = nx.spring_layout(G, iterations=100)\n",
    "\n",
    "nx.set_node_attributes(G, {k:v[0] for k,v in pos.items()}, name = \"x\")\n",
    "nx.set_node_attributes(G, {k:v[1] for k,v in pos.items()}, name = \"y\")"
   ]
  },
  {
   "cell_type": "code",
   "execution_count": 20,
   "id": "lyric-event",
   "metadata": {},
   "outputs": [],
   "source": [
    "from networkx.readwrite import json_graph\n",
    "data = json_graph.node_link_data(G, attrs = {\"link\": \"edges\"})"
   ]
  },
  {
   "cell_type": "code",
   "execution_count": 21,
   "id": "353303ba-6eff-43c9-b6ba-2efec081bc25",
   "metadata": {},
   "outputs": [],
   "source": [
    "import json\n",
    "with open(f'{WEBSITE_DATA_PATH}/movies_network.json', 'w') as f:\n",
    "    json.dump(data, f)"
   ]
  },
  {
   "cell_type": "code",
   "execution_count": null,
   "id": "980960be-54cf-4c45-a438-668ae7244b86",
   "metadata": {},
   "outputs": [],
   "source": []
  }
 ],
 "metadata": {
  "kernelspec": {
   "display_name": "cds",
   "language": "python",
   "name": "cds"
  },
  "language_info": {
   "codemirror_mode": {
    "name": "ipython",
    "version": 3
   },
   "file_extension": ".py",
   "mimetype": "text/x-python",
   "name": "python",
   "nbconvert_exporter": "python",
   "pygments_lexer": "ipython3",
   "version": "3.8.5"
  }
 },
 "nbformat": 4,
 "nbformat_minor": 5
}
