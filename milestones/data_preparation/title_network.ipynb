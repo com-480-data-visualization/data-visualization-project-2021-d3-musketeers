{
 "cells": [
  {
   "cell_type": "markdown",
   "id": "timely-father",
   "metadata": {},
   "source": [
    "# Preparing data for the website"
   ]
  },
  {
   "cell_type": "code",
   "execution_count": 1,
   "id": "explicit-volleyball",
   "metadata": {},
   "outputs": [],
   "source": [
    "import pandas as pd"
   ]
  },
  {
   "cell_type": "code",
   "execution_count": 2,
   "id": "prepared-composite",
   "metadata": {},
   "outputs": [],
   "source": [
    "# Load the data\n",
    "DATA_PATH = '../../data'\n",
    "WEBSITE_DATA_PATH = '../../website/app/data'\n",
    "catalogue = pd.read_csv(f'{DATA_PATH}/titles.csv')\n",
    "persons = pd.read_csv(f'{DATA_PATH}/persons.csv')\n",
    "genres = pd.read_csv(f'{DATA_PATH}/genres.csv')\n",
    "countries = pd.read_csv(f'{DATA_PATH}/countries.csv')"
   ]
  },
  {
   "cell_type": "code",
   "execution_count": 3,
   "id": "above-virginia",
   "metadata": {},
   "outputs": [],
   "source": [
    "catalogue['actors'] = catalogue.actors.str.split(',')\n",
    "catalogue['release date on Netflix'] = pd.to_datetime(catalogue['release date on Netflix'])\n",
    "catalogue['month'] = catalogue['release date on Netflix'].dt.month\n",
    "catalogue['year'] = catalogue['release date on Netflix'].dt.year "
   ]
  },
  {
   "cell_type": "code",
   "execution_count": 4,
   "id": "official-venue",
   "metadata": {},
   "outputs": [],
   "source": [
    "# Dictionnary for faster countries and genres access \n",
    "countries_to_name = countries.set_index('id').to_dict(orient='index')\n",
    "genres_to_name = genres.set_index('id').to_dict(orient='index')\n",
    "persons_to_name = persons.set_index('id').to_dict(orient='index')\n",
    "\n",
    "def get_genre_name(id_):\n",
    "    return genres_to_name[int(id_)]['name']\n",
    "\n",
    "def get_country_name(id_):\n",
    "    return countries_to_name[int(id_)]['name']\n",
    "\n",
    "def get_person_name(id_):\n",
    "    return persons_to_name[int(id_)]['name']"
   ]
  },
  {
   "cell_type": "code",
   "execution_count": 5,
   "id": "acoustic-consideration",
   "metadata": {},
   "outputs": [],
   "source": [
    "series = catalogue[~catalogue['number of seasons'].isna()].copy()\n",
    "movies = catalogue[catalogue['number of seasons'].isna()].copy()"
   ]
  },
  {
   "cell_type": "markdown",
   "id": "occupational-murder",
   "metadata": {},
   "source": [
    "## Graph information"
   ]
  },
  {
   "cell_type": "code",
   "execution_count": 121,
   "id": "8677e5f4-14a4-4267-8949-15b801c65dbb",
   "metadata": {},
   "outputs": [],
   "source": [
    "top_audio = movies.groupby('audio')['id'].count().sort_values(ascending=False)[:10].index"
   ]
  },
  {
   "cell_type": "code",
   "execution_count": 122,
   "id": "a7141f49-fcd3-418a-8d1c-396c2d2b0d9e",
   "metadata": {},
   "outputs": [],
   "source": [
    "top_movies_per_audio = movies.groupby('audio')[['actors', 'imdb', 'metacritic', 'title']].apply(lambda x: x.sort_values(['imdb', 'metacritic'], ascending=False).head(100)).reset_index()\n",
    "top_movies_per_audio = top_movies_per_audio[top_movies_per_audio['audio'].isin(top_audio)]"
   ]
  },
  {
   "cell_type": "code",
   "execution_count": 123,
   "id": "thermal-worst",
   "metadata": {},
   "outputs": [],
   "source": [
    "import networkx as nx"
   ]
  },
  {
   "cell_type": "code",
   "execution_count": 124,
   "id": "introductory-music",
   "metadata": {
    "tags": []
   },
   "outputs": [],
   "source": [
    "G = nx.Graph()"
   ]
  },
  {
   "cell_type": "code",
   "execution_count": 125,
   "id": "polar-rochester",
   "metadata": {},
   "outputs": [],
   "source": [
    "actors_per_item = top_movies_per_audio.sort_values('imdb', ascending=False)[:1000]['actors'].dropna()\n",
    "actors_per_item = actors_per_item.apply(set)"
   ]
  },
  {
   "cell_type": "code",
   "execution_count": 126,
   "id": "solar-retailer",
   "metadata": {},
   "outputs": [],
   "source": [
    "h = 0\n",
    "k = 0\n",
    "for i, a1 in actors_per_item.iteritems():\n",
    "    for j, a2 in actors_per_item.iteritems():\n",
    "        if (i != j) and (set(a1) & set(a2)):\n",
    "            G.add_edge(i, j, weight = len(set(a1) & set(a2)), id = h)\n",
    "            h +=1"
   ]
  },
  {
   "cell_type": "code",
   "execution_count": 127,
   "id": "bc3285f8-6bd0-49c9-9f2c-b36333595f6c",
   "metadata": {},
   "outputs": [],
   "source": [
    "nx.set_node_attributes(G, top_movies_per_audio.title.to_dict(), name = \"name\")\n",
    "nx.set_node_attributes(G, top_movies_per_audio.audio.to_dict(), name = \"audio\")"
   ]
  },
  {
   "cell_type": "code",
   "execution_count": 128,
   "id": "tough-milwaukee",
   "metadata": {},
   "outputs": [],
   "source": [
    "giant_cc = sorted(nx.connected_components(G), key=len, reverse=True)[0]"
   ]
  },
  {
   "cell_type": "code",
   "execution_count": 129,
   "id": "threatened-worker",
   "metadata": {},
   "outputs": [],
   "source": [
    "G = nx.subgraph(G, giant_cc)"
   ]
  },
  {
   "cell_type": "code",
   "execution_count": 130,
   "id": "644dfafb-282c-44ba-b10c-2863074f3ed1",
   "metadata": {},
   "outputs": [],
   "source": [
    "from itertools import count\n",
    "groups = set(nx.get_node_attributes(G,'audio').values())\n",
    "mapping = dict(zip(sorted(groups),count()))\n",
    "nodes = G.nodes()\n",
    "colors = {n:mapping[G.nodes[n]['audio']] for n in nodes}"
   ]
  },
  {
   "cell_type": "code",
   "execution_count": 131,
   "id": "ed9e92ba-569c-4d87-9bb2-ca60f1e88f0e",
   "metadata": {},
   "outputs": [],
   "source": [
    "import matplotlib\n",
    "import matplotlib.cm as cm\n",
    "\n",
    "audio_list = set(colors.values())\n",
    "norm = matplotlib.colors.Normalize(vmin=min(audio_list), vmax=max(audio_list), clip=True)\n",
    "mapper = cm.ScalarMappable(norm=norm, cmap=cm.RdPu)\n",
    "\n",
    "audio_to_colors = {audio: matplotlib.colors.rgb2hex(mapper.to_rgba(audio)) for audio in audio_list}"
   ]
  },
  {
   "cell_type": "code",
   "execution_count": 132,
   "id": "17200ea2-5db5-438e-b9de-25ba7e15b03f",
   "metadata": {},
   "outputs": [
    {
     "data": {
      "text/plain": [
       "Index(['English', 'Japanese', 'Hindi', 'French', 'Korean', 'Italian', 'German',\n",
       "       'Spanish', 'Mandarin', 'Arabic'],\n",
       "      dtype='object', name='audio')"
      ]
     },
     "execution_count": 132,
     "metadata": {},
     "output_type": "execute_result"
    }
   ],
   "source": [
    "top_audio"
   ]
  },
  {
   "cell_type": "code",
   "execution_count": 133,
   "id": "cdf7a922-7904-4e78-a1ae-7bdccdf5adc2",
   "metadata": {},
   "outputs": [],
   "source": [
    "colors = {n:audio_to_colors[mapping[G.nodes[n]['audio']]] for n in nodes}\n",
    "nx.set_node_attributes(G, colors, name = \"color\")"
   ]
  },
  {
   "cell_type": "code",
   "execution_count": 134,
   "id": "263da436-b8e5-4a95-ac8a-bcaebf89d321",
   "metadata": {},
   "outputs": [],
   "source": [
    "import numpy as np"
   ]
  },
  {
   "cell_type": "code",
   "execution_count": 138,
   "id": "d835ea8e-67e7-43ca-bfc1-16abf86f95f7",
   "metadata": {},
   "outputs": [],
   "source": [
    "pos = nx.spring_layout(G)\n",
    "\n",
    "nx.set_node_attributes(G, {k:v[0] for k,v in pos.items()}, name = \"x\")\n",
    "nx.set_node_attributes(G, {k:v[1] for k,v in pos.items()}, name = \"y\")"
   ]
  },
  {
   "cell_type": "code",
   "execution_count": 139,
   "id": "lyric-event",
   "metadata": {},
   "outputs": [],
   "source": [
    "from networkx.readwrite import json_graph\n",
    "data = json_graph.node_link_data(G, attrs = {\"link\": \"edges\"})"
   ]
  },
  {
   "cell_type": "code",
   "execution_count": 140,
   "id": "353303ba-6eff-43c9-b6ba-2efec081bc25",
   "metadata": {},
   "outputs": [],
   "source": [
    "import json\n",
    "with open(f'{WEBSITE_DATA_PATH}/movies_network.json', 'w') as f:\n",
    "    json.dump(data, f)"
   ]
  }
 ],
 "metadata": {
  "kernelspec": {
   "display_name": "cds",
   "language": "python",
   "name": "cds"
  },
  "language_info": {
   "codemirror_mode": {
    "name": "ipython",
    "version": 3
   },
   "file_extension": ".py",
   "mimetype": "text/x-python",
   "name": "python",
   "nbconvert_exporter": "python",
   "pygments_lexer": "ipython3",
   "version": "3.8.5"
  }
 },
 "nbformat": 4,
 "nbformat_minor": 5
}
