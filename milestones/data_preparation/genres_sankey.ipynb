{
 "cells": [
  {
   "cell_type": "code",
   "execution_count": null,
   "id": "turkish-outreach",
   "metadata": {},
   "outputs": [],
   "source": [
    "import pandas as pd"
   ]
  },
  {
   "cell_type": "code",
   "execution_count": null,
   "id": "outer-keyboard",
   "metadata": {},
   "outputs": [],
   "source": [
    "# Load the data\n",
    "DATA_PATH = '../../data'\n",
    "WEBSITE_DATA_PATH = '../../website/app/data'\n",
    "\n",
    "movies = pd.read_csv(f'{DATA_PATH}/titles.csv')"
   ]
  },
  {
   "cell_type": "code",
   "execution_count": null,
   "id": "useful-rebound",
   "metadata": {},
   "outputs": [],
   "source": [
    "movies['release date on Netflix'] = pd.to_datetime(movies['release date on Netflix'])\n",
    "movies_g = movies[movies['release date on Netflix'] != '2015-04-14']\n",
    "\n",
    "movies_g['month'] = movies_g['release date on Netflix'].dt.month\n",
    "\n",
    "genres = movies_g[['id', 'genres', 'month']]\n",
    "genres['genres'] = genres.genres.str.split(',')\n",
    "\n",
    "genres_name = pd.read_csv('genres.csv')['name'].to_dict()\n",
    "\n",
    "genres.genres = genres.genres.apply(lambda x : [genres_name[int(g)] for g in x])\n",
    "genres = genres.explode('genres')"
   ]
  },
  {
   "cell_type": "code",
   "execution_count": null,
   "id": "documented-recommendation",
   "metadata": {},
   "outputs": [],
   "source": [
    "top_5 = genres.groupby('genres').count().sort_values(by='id', ascending = False).reset_index()\n",
    "top_5_list = top_5.iloc[:5]['genres'].to_list()"
   ]
  },
  {
   "cell_type": "code",
   "execution_count": null,
   "id": "stuck-chick",
   "metadata": {},
   "outputs": [],
   "source": [
    "top = genres.groupby(['month', 'genres']).count().reset_index()\n",
    "top = top[top.genres.isin(top_5_list)].reset_index().drop(columns = 'index')"
   ]
  },
  {
   "cell_type": "code",
   "execution_count": null,
   "id": "likely-estonia",
   "metadata": {},
   "outputs": [],
   "source": [
    "top.rename({'month':'source', 'genres':'target', 'id':'value'}).to_csv('mood.csv', index=False)"
   ]
  }
 ],
 "metadata": {
  "kernelspec": {
   "display_name": "Python 3",
   "language": "python",
   "name": "python3"
  },
  "language_info": {
   "codemirror_mode": {
    "name": "ipython",
    "version": 3
   },
   "file_extension": ".py",
   "mimetype": "text/x-python",
   "name": "python",
   "nbconvert_exporter": "python",
   "pygments_lexer": "ipython3",
   "version": "3.8.5"
  }
 },
 "nbformat": 4,
 "nbformat_minor": 5
}
