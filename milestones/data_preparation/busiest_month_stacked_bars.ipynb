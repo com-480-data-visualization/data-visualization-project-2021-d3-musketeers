{
 "cells": [
  {
   "cell_type": "code",
   "execution_count": null,
   "id": "single-endorsement",
   "metadata": {},
   "outputs": [],
   "source": [
    "import pandas as pd"
   ]
  },
  {
   "cell_type": "code",
   "execution_count": null,
   "id": "useful-religious",
   "metadata": {},
   "outputs": [],
   "source": [
    "# Load the data\n",
    "DATA_PATH = '../../data'\n",
    "WEBSITE_DATA_PATH = '../../website/app/data'\n",
    "\n",
    "movies = pd.read_csv(f'{DATA_PATH}/titles.csv')\n",
    "\n",
    "movies['release date on Netflix'] = pd.to_datetime(movies['release date on Netflix'])\n",
    "\n",
    "movies['month'] = movies['release date on Netflix'].dt.month\n",
    "\n",
    "movies['type'] = movies['duration'].apply(lambda x : 'movie' if x>0 else 'show')"
   ]
  },
  {
   "cell_type": "markdown",
   "id": "strategic-repair",
   "metadata": {},
   "source": [
    "The first relaease Netflix ever made was the 14th of April of 2015 and they released more than 4000 items. To not have skewed bars towards April."
   ]
  },
  {
   "cell_type": "code",
   "execution_count": null,
   "id": "fiscal-space",
   "metadata": {},
   "outputs": [],
   "source": [
    "movies_g = movies[movies['release date on Netflix'] != '2015-04-14']\n",
    "\n",
    "busiest = movies_g[['month', 'type','id']].groupby(['month', 'type']).count().reset_index()\n",
    "busiest = to_csv.pivot(index='month', columns='type', values = 'id').reset_index()\n",
    "\n",
    "MONTHS = ['January', 'February', 'March', 'April', 'May', 'June', 'July', 'August', 'September', 'October', 'November', 'December']\n",
    "busiest['month'] = to_csv['month'].apply(lambda x : MONTHS[x-1])\n",
    "\n",
    "\n",
    "busiest.to_csv('busiest_month.csv', index = False)"
   ]
  }
 ],
 "metadata": {
  "kernelspec": {
   "display_name": "Python 3",
   "language": "python",
   "name": "python3"
  },
  "language_info": {
   "codemirror_mode": {
    "name": "ipython",
    "version": 3
   },
   "file_extension": ".py",
   "mimetype": "text/x-python",
   "name": "python",
   "nbconvert_exporter": "python",
   "pygments_lexer": "ipython3",
   "version": "3.8.5"
  }
 },
 "nbformat": 4,
 "nbformat_minor": 5
}
