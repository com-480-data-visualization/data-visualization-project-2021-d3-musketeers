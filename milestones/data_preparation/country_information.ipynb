{
 "cells": [
  {
   "cell_type": "markdown",
   "id": "d4e0ed02-8314-458f-b146-a1a59801653d",
   "metadata": {},
   "source": [
    "# Retrieving information per country"
   ]
  },
  {
   "cell_type": "code",
   "execution_count": null,
   "id": "cbee9ffe-131b-4617-a453-6d12fa05e3cc",
   "metadata": {},
   "outputs": [],
   "source": [
    "import pandas as pd\n",
    "import pycountry"
   ]
  },
  {
   "cell_type": "code",
   "execution_count": null,
   "id": "6d7c038f-0a5d-405e-b47f-80dbdaeee278",
   "metadata": {},
   "outputs": [],
   "source": [
    "# Load the data\n",
    "DATA_PATH = '../../data'\n",
    "WEBSITE_DATA_PATH = '../../website/app/data'\n",
    "\n",
    "catalogue = pd.read_csv(f'{DATA_PATH}/titles.csv')\n",
    "persons = pd.read_csv(f'{DATA_PATH}/persons.csv')\n",
    "genres = pd.read_csv(f'{DATA_PATH}/genres.csv')\n",
    "countries = pd.read_csv(f'{DATA_PATH}/countries.csv')"
   ]
  },
  {
   "cell_type": "code",
   "execution_count": null,
   "id": "7839fa3d-dd97-43d3-a63e-d2ce754ad50e",
   "metadata": {},
   "outputs": [],
   "source": [
    "# Split attributes with multiple values per row\n",
    "catalogue['genres'] = catalogue.genres.str.split(',')\n",
    "catalogue['countries'] = catalogue.countries.str.split(',')\n",
    "catalogue['actors'] = catalogue.actors.str.split(',')\n",
    "catalogue['directors'] = catalogue.directors.str.split(',')\n",
    "catalogue['alternate genres'] = catalogue['alternate genres'].str.split(',')\n",
    "catalogue['release date on Netflix'] = pd.to_datetime(catalogue['release date on Netflix'])\n",
    "catalogue.rename(columns = {'year': 'actual_release_year'}, inplace = True)\n",
    "\n",
    "catalogue['month'] = catalogue['release date on Netflix'].dt.month\n",
    "catalogue['year'] = catalogue['release date on Netflix'].dt.year "
   ]
  },
  {
   "cell_type": "code",
   "execution_count": null,
   "id": "9ff000db-0b19-4314-8ff9-46f325ccdb33",
   "metadata": {},
   "outputs": [],
   "source": [
    "# Dictionnary for faster countries and genres access \n",
    "countries_to_name = countries.set_index('id').to_dict(orient='index')\n",
    "genres_to_name = genres.set_index('id').to_dict(orient='index')\n",
    "persons_to_name = persons.set_index('id').to_dict(orient='index')\n",
    "\n",
    "def get_genre_name(id_):\n",
    "    return genres_to_name[int(id_)]['name']\n",
    "\n",
    "def get_country_name(id_):\n",
    "    name = countries_to_name[int(id_)]['name']\n",
    "    if name == 'UK':\n",
    "        return 'United Kingdom'\n",
    "    if name == 'UAE':\n",
    "        return 'United Arab Emirates'\n",
    "    return name\n",
    "\n",
    "def get_person_name(id_):\n",
    "    return persons_to_name[int(id_)]['name']"
   ]
  },
  {
   "cell_type": "code",
   "execution_count": null,
   "id": "2095ad8a-be20-437b-aafc-6c4b1b8f6f70",
   "metadata": {},
   "outputs": [],
   "source": [
    "series = catalogue[~catalogue['number of seasons'].isna()].copy()\n",
    "movies = catalogue[catalogue['number of seasons'].isna()].copy()"
   ]
  },
  {
   "cell_type": "code",
   "execution_count": null,
   "id": "0f3077a9-13f2-4fb7-a729-237269f287b0",
   "metadata": {},
   "outputs": [],
   "source": [
    "movies_exploded_countries = movies.explode('countries').dropna(subset = ['countries'])\n",
    "series_exploded_countries = series.explode('countries').dropna(subset = ['countries'])\n",
    "\n",
    "movies_exploded_countries['countries'] = movies_exploded_countries.countries.apply(get_country_name)\n",
    "series_exploded_countries['countries'] = series_exploded_countries.countries.apply(get_country_name)"
   ]
  },
  {
   "cell_type": "code",
   "execution_count": null,
   "id": "0f100610-493e-4c1f-b757-39648a69b00b",
   "metadata": {},
   "outputs": [],
   "source": [
    "movies_exploded_countries['count_movies'] = 1\n",
    "series_exploded_countries['count_series'] = 1\n",
    "\n",
    "n_movies_per_country = movies_exploded_countries.groupby('countries')['count_movies'].count()\n",
    "\n",
    "n_series_per_country = series_exploded_countries.groupby('countries')['count_series'].count()"
   ]
  },
  {
   "cell_type": "code",
   "execution_count": null,
   "id": "27d8d851-c59a-4a52-b6f3-c59a09514512",
   "metadata": {},
   "outputs": [],
   "source": [
    "from collections import Counter\n",
    "\n",
    "catalogue_countries_exploded = catalogue.explode('countries').dropna(subset = ['countries'])\n",
    "catalogue_countries_exploded['countries'] = catalogue_countries_exploded.countries.apply(get_country_name)\n",
    "genres_per_country = catalogue_countries_exploded.groupby('countries').aggregate({'genres': 'sum'})\n",
    "genres_per_country['genres'] = genres_per_country.genres.apply(lambda l: Counter([get_genre_name(g) for g in l]))\n",
    "genres_per_country['genres'] = genres_per_country.genres.apply(lambda c: [g for g, v in c.most_common(10)])"
   ]
  },
  {
   "cell_type": "code",
   "execution_count": null,
   "id": "c8c13c04-acdc-4334-b7c3-1e3d9b5561e4",
   "metadata": {},
   "outputs": [],
   "source": [
    "countries_info = pd.DataFrame(n_movies_per_country).merge(pd.DataFrame(n_series_per_country), left_index=True, right_index=True)\\\n",
    "                                                   .merge(genres_per_country, left_index=True, right_index=True)\\\n",
    "                                                   .reset_index()\\\n",
    "                                                   .rename(columns = {'countries': 'country'})"
   ]
  },
  {
   "cell_type": "code",
   "execution_count": null,
   "id": "0fe1146e-f228-4936-8c26-e2fa443765e4",
   "metadata": {},
   "outputs": [],
   "source": [
    "import country_converter as coco\n",
    "\n",
    "countries_info['code'] = coco.convert(names=countries_info.country, to='ISO2', not_found=None)\n",
    "countries_info = countries_info.set_index('code')"
   ]
  },
  {
   "cell_type": "code",
   "execution_count": null,
   "id": "edb1a672-a935-4b74-bb17-04bb7f4f72e3",
   "metadata": {},
   "outputs": [],
   "source": [
    "joined_dates = pd.read_csv('countries_joindate.csv', dtype={'date_joined': int})\n",
    "\n",
    "countries_info = countries_info.reset_index().merge(joined_dates, on='country').set_index('code')"
   ]
  },
  {
   "cell_type": "code",
   "execution_count": null,
   "id": "19ca9aef-e90e-437b-8e4c-1cc3d38fb91e",
   "metadata": {},
   "outputs": [],
   "source": [
    "countries_info.to_json(f'{WEBSITE_DATA_PATH}/countries_info.json', orient='index')"
   ]
  },
  {
   "cell_type": "code",
   "execution_count": null,
   "id": "de97238b-5e88-4ef8-8139-8534fb3bfb5e",
   "metadata": {},
   "outputs": [],
   "source": []
  }
 ],
 "metadata": {
  "kernelspec": {
   "display_name": "cds",
   "language": "python",
   "name": "cds"
  },
  "language_info": {
   "codemirror_mode": {
    "name": "ipython",
    "version": 3
   },
   "file_extension": ".py",
   "mimetype": "text/x-python",
   "name": "python",
   "nbconvert_exporter": "python",
   "pygments_lexer": "ipython3",
   "version": "3.8.5"
  }
 },
 "nbformat": 4,
 "nbformat_minor": 5
}
