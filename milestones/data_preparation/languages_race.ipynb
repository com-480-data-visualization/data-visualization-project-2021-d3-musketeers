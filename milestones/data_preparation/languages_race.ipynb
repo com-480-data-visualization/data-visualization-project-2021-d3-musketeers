{
 "cells": [
  {
   "cell_type": "code",
   "execution_count": null,
   "id": "beneficial-shadow",
   "metadata": {},
   "outputs": [],
   "source": [
    "import pandas as pd"
   ]
  },
  {
   "cell_type": "code",
   "execution_count": null,
   "id": "moving-blend",
   "metadata": {},
   "outputs": [],
   "source": [
    "# Load the data\n",
    "DATA_PATH = '../../data'\n",
    "WEBSITE_DATA_PATH = '../../website/app/data'\n",
    "\n",
    "movies = pd.read_csv(f'{DATA_PATH}/titles.csv')\n",
    "\n",
    "movies['release date on Netflix'] = pd.to_datetime(movies['release date on Netflix'])\n",
    "movies.rename(columns = {'year': 'actual_release_year', 'release date on Netflix' : 'release_date'}, inplace = True)\n",
    "movies['month'] = movies['release_date'].dt.month\n",
    "movies['year'] = movies['release_date'].dt.year "
   ]
  },
  {
   "cell_type": "code",
   "execution_count": null,
   "id": "pending-chuck",
   "metadata": {},
   "outputs": [],
   "source": [
    "audio_evolution = movies[['release_date', 'audio', 'title']].groupby(['release_date', 'audio']).count().reset_index().sort_values(by = ['release_date', 'title'],\n",
    "                                                                                                                                   ascending = False)"
   ]
  },
  {
   "cell_type": "code",
   "execution_count": null,
   "id": "acting-investor",
   "metadata": {},
   "outputs": [],
   "source": [
    "dates = list(audio_evolution.release_date.unique())\n",
    "dates.sort()"
   ]
  },
  {
   "cell_type": "code",
   "execution_count": null,
   "id": "second-blink",
   "metadata": {},
   "outputs": [],
   "source": [
    "final_audio = pd.DataFrame()\n",
    "for d in dates :\n",
    "    temp = movies[movies['release_date'] <= d]\n",
    "    temp = temp[['audio', 'title']].groupby('audio').count().reset_index().rename(columns={'title': 'count'}).sort_values(by = ['count'], ascending = False)[:10]\n",
    "    temp['release_date'] = d\n",
    "    final_audio= pd.concat([final_audio, temp])"
   ]
  },
  {
   "cell_type": "code",
   "execution_count": null,
   "id": "brief-nitrogen",
   "metadata": {},
   "outputs": [],
   "source": [
    "final_audio.to_csv('racing_audio.csv', index = False)"
   ]
  }
 ],
 "metadata": {
  "kernelspec": {
   "display_name": "Python 3",
   "language": "python",
   "name": "python3"
  },
  "language_info": {
   "codemirror_mode": {
    "name": "ipython",
    "version": 3
   },
   "file_extension": ".py",
   "mimetype": "text/x-python",
   "name": "python",
   "nbconvert_exporter": "python",
   "pygments_lexer": "ipython3",
   "version": "3.8.5"
  }
 },
 "nbformat": 4,
 "nbformat_minor": 5
}
